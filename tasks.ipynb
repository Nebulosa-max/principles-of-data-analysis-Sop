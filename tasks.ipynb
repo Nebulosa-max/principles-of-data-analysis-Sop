{
 "cells": [
  {
   "cell_type": "markdown",
   "id": "ee7529ef",
   "metadata": {},
   "source": [
    "# Tasks"
   ]
  },
  {
   "cell_type": "markdown",
   "id": "57850970",
   "metadata": {},
   "source": [
    "# Import"
   ]
  },
  {
   "cell_type": "markdown",
   "id": "652c3dc1",
   "metadata": {},
   "source": [
    "## Task 1: Title goes here"
   ]
  },
  {
   "cell_type": "code",
   "execution_count": null,
   "id": "88ba2eac",
   "metadata": {},
   "outputs": [
    {
     "name": "stdout",
     "output_type": "stream",
     "text": [
      "55\n"
     ]
    }
   ],
   "source": [
    "# Calculate the sum of the numbers from 1 to 10 inclusive.\n",
    "\n",
    "sum = 0\n",
    "for i in range(1, 11):\n",
    "    sum += i\n",
    "print(sum) "
   ]
  },
  {
   "cell_type": "markdown",
   "id": "49c65ccd",
   "metadata": {},
   "source": [
    "## Task 2: Task 2 Title here"
   ]
  },
  {
   "cell_type": "markdown",
   "id": "133ac554",
   "metadata": {},
   "source": [
    "## Task 3: Here We Go..."
   ]
  },
  {
   "cell_type": "markdown",
   "id": "4a686be7",
   "metadata": {},
   "source": [
    "## At the very end, just type END"
   ]
  },
  {
   "cell_type": "markdown",
   "id": "4f800af2",
   "metadata": {},
   "source": [
    "## END\n"
   ]
  }
 ],
 "metadata": {
  "kernelspec": {
   "display_name": "Python 3",
   "language": "python",
   "name": "python3"
  },
  "language_info": {
   "codemirror_mode": {
    "name": "ipython",
    "version": 3
   },
   "file_extension": ".py",
   "mimetype": "text/x-python",
   "name": "python",
   "nbconvert_exporter": "python",
   "pygments_lexer": "ipython3",
   "version": "3.12.1"
  }
 },
 "nbformat": 4,
 "nbformat_minor": 5
}
